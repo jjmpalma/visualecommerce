{
 "cells": [
  {
   "cell_type": "markdown",
   "metadata": {},
   "source": [
    "# eCommerce behaviour dataset"
   ]
  },
  {
   "cell_type": "code",
   "execution_count": 4,
   "metadata": {},
   "outputs": [],
   "source": [
    "import pandas as pd\n",
    "import numpy as np\n",
    "from numpy import random\n",
    "import json"
   ]
  },
  {
   "cell_type": "code",
   "execution_count": 6,
   "metadata": {},
   "outputs": [],
   "source": [
    "# == ecommerceBehaviourOct.csv == Data Source: https://www.kaggle.com/datasets/mkechinov/ecommerce-behavior-data-from-multi-category-store\n",
    "#ds = pd.read_csv('../data/ecommerceBehaviour.csv')\n",
    "\n",
    "# == eCommerceBehaviourOct.pkl == Data cleaning and memory data type adjustments applied\n",
    "ds = pd.read_pickle('../data/ecommerceBehaviourCleaned.pkl')\n"
   ]
  },
  {
   "cell_type": "markdown",
   "metadata": {},
   "source": [
    "# 1 Initial exploration"
   ]
  },
  {
   "cell_type": "markdown",
   "metadata": {},
   "source": [
    "## 1.1 Dataset info"
   ]
  },
  {
   "cell_type": "code",
   "execution_count": 7,
   "metadata": {},
   "outputs": [
    {
     "data": {
      "text/plain": [
       "(26560620, 9)"
      ]
     },
     "execution_count": 7,
     "metadata": {},
     "output_type": "execute_result"
    }
   ],
   "source": [
    "ds.shape"
   ]
  },
  {
   "cell_type": "code",
   "execution_count": 8,
   "metadata": {},
   "outputs": [
    {
     "data": {
      "text/html": [
       "<div>\n",
       "<style scoped>\n",
       "    .dataframe tbody tr th:only-of-type {\n",
       "        vertical-align: middle;\n",
       "    }\n",
       "\n",
       "    .dataframe tbody tr th {\n",
       "        vertical-align: top;\n",
       "    }\n",
       "\n",
       "    .dataframe thead th {\n",
       "        text-align: right;\n",
       "    }\n",
       "</style>\n",
       "<table border=\"1\" class=\"dataframe\">\n",
       "  <thead>\n",
       "    <tr style=\"text-align: right;\">\n",
       "      <th></th>\n",
       "      <th>event_time</th>\n",
       "      <th>event_type</th>\n",
       "      <th>product_id</th>\n",
       "      <th>category_id</th>\n",
       "      <th>category_code</th>\n",
       "      <th>brand</th>\n",
       "      <th>price</th>\n",
       "      <th>user_id</th>\n",
       "      <th>user_session</th>\n",
       "    </tr>\n",
       "  </thead>\n",
       "  <tbody>\n",
       "    <tr>\n",
       "      <th>1</th>\n",
       "      <td>2019-10-01 00:00:00+00:00</td>\n",
       "      <td>view</td>\n",
       "      <td>3900821</td>\n",
       "      <td>2053013552326770905</td>\n",
       "      <td>appliances.environment.water_heater</td>\n",
       "      <td>aqua</td>\n",
       "      <td>33.1875</td>\n",
       "      <td>554748717</td>\n",
       "      <td>9333dfbd-b87a-4708-9857-6336556b0fcc</td>\n",
       "    </tr>\n",
       "    <tr>\n",
       "      <th>3</th>\n",
       "      <td>2019-10-01 00:00:01+00:00</td>\n",
       "      <td>view</td>\n",
       "      <td>1307067</td>\n",
       "      <td>2053013558920217191</td>\n",
       "      <td>computers.notebook</td>\n",
       "      <td>lenovo</td>\n",
       "      <td>251.7500</td>\n",
       "      <td>550050854</td>\n",
       "      <td>7c90fc70-0e80-4590-96f3-13c02c18c713</td>\n",
       "    </tr>\n",
       "    <tr>\n",
       "      <th>4</th>\n",
       "      <td>2019-10-01 00:00:04+00:00</td>\n",
       "      <td>view</td>\n",
       "      <td>1004237</td>\n",
       "      <td>2053013555631882655</td>\n",
       "      <td>electronics.smartphone</td>\n",
       "      <td>apple</td>\n",
       "      <td>1082.0000</td>\n",
       "      <td>535871217</td>\n",
       "      <td>c6bd7419-2748-4c56-95b4-8cec9ff8b80d</td>\n",
       "    </tr>\n",
       "    <tr>\n",
       "      <th>5</th>\n",
       "      <td>2019-10-01 00:00:05+00:00</td>\n",
       "      <td>view</td>\n",
       "      <td>1480613</td>\n",
       "      <td>2053013561092866779</td>\n",
       "      <td>computers.desktop</td>\n",
       "      <td>pulser</td>\n",
       "      <td>908.5000</td>\n",
       "      <td>512742880</td>\n",
       "      <td>0d0d91c2-c9c2-4e81-90a5-86594dec0db9</td>\n",
       "    </tr>\n",
       "    <tr>\n",
       "      <th>8</th>\n",
       "      <td>2019-10-01 00:00:10+00:00</td>\n",
       "      <td>view</td>\n",
       "      <td>28719074</td>\n",
       "      <td>2053013565480109009</td>\n",
       "      <td>apparel.shoes.keds</td>\n",
       "      <td>baden</td>\n",
       "      <td>102.6875</td>\n",
       "      <td>520571932</td>\n",
       "      <td>ac1cd4e5-a3ce-4224-a2d7-ff660a105880</td>\n",
       "    </tr>\n",
       "  </tbody>\n",
       "</table>\n",
       "</div>"
      ],
      "text/plain": [
       "                 event_time event_type  product_id          category_id  \\\n",
       "1 2019-10-01 00:00:00+00:00       view     3900821  2053013552326770905   \n",
       "3 2019-10-01 00:00:01+00:00       view     1307067  2053013558920217191   \n",
       "4 2019-10-01 00:00:04+00:00       view     1004237  2053013555631882655   \n",
       "5 2019-10-01 00:00:05+00:00       view     1480613  2053013561092866779   \n",
       "8 2019-10-01 00:00:10+00:00       view    28719074  2053013565480109009   \n",
       "\n",
       "                         category_code   brand      price    user_id  \\\n",
       "1  appliances.environment.water_heater    aqua    33.1875  554748717   \n",
       "3                   computers.notebook  lenovo   251.7500  550050854   \n",
       "4               electronics.smartphone   apple  1082.0000  535871217   \n",
       "5                    computers.desktop  pulser   908.5000  512742880   \n",
       "8                   apparel.shoes.keds   baden   102.6875  520571932   \n",
       "\n",
       "                           user_session  \n",
       "1  9333dfbd-b87a-4708-9857-6336556b0fcc  \n",
       "3  7c90fc70-0e80-4590-96f3-13c02c18c713  \n",
       "4  c6bd7419-2748-4c56-95b4-8cec9ff8b80d  \n",
       "5  0d0d91c2-c9c2-4e81-90a5-86594dec0db9  \n",
       "8  ac1cd4e5-a3ce-4224-a2d7-ff660a105880  "
      ]
     },
     "execution_count": 8,
     "metadata": {},
     "output_type": "execute_result"
    }
   ],
   "source": [
    "ds.head()"
   ]
  },
  {
   "cell_type": "code",
   "execution_count": 9,
   "metadata": {},
   "outputs": [
    {
     "name": "stdout",
     "output_type": "stream",
     "text": [
      "<class 'pandas.core.frame.DataFrame'>\n",
      "Int64Index: 26560620 entries, 1 to 42448762\n",
      "Data columns (total 9 columns):\n",
      " #   Column         Dtype              \n",
      "---  ------         -----              \n",
      " 0   event_time     datetime64[ns, UTC]\n",
      " 1   event_type     category           \n",
      " 2   product_id     int32              \n",
      " 3   category_id    int64              \n",
      " 4   category_code  object             \n",
      " 5   brand          object             \n",
      " 6   price          float16            \n",
      " 7   user_id        int32              \n",
      " 8   user_session   object             \n",
      "dtypes: category(1), datetime64[ns, UTC](1), float16(1), int32(2), int64(1), object(3)\n",
      "memory usage: 1.5+ GB\n"
     ]
    }
   ],
   "source": [
    "ds.info()"
   ]
  },
  {
   "cell_type": "code",
   "execution_count": 10,
   "metadata": {},
   "outputs": [
    {
     "data": {
      "text/plain": [
       "event_time       2558113\n",
       "event_type             3\n",
       "product_id         60371\n",
       "category_id          248\n",
       "category_code        126\n",
       "brand               1731\n",
       "price               8465\n",
       "user_id          2323036\n",
       "user_session     6419693\n",
       "dtype: int64"
      ]
     },
     "execution_count": 10,
     "metadata": {},
     "output_type": "execute_result"
    }
   ],
   "source": [
    "ds.nunique(axis=0, dropna=False)"
   ]
  },
  {
   "cell_type": "markdown",
   "metadata": {},
   "source": [
    "## 1.2 Graph info"
   ]
  },
  {
   "cell_type": "code",
   "execution_count": 11,
   "metadata": {},
   "outputs": [
    {
     "name": "stdout",
     "output_type": "stream",
     "text": [
      "Number of customer nodes:  2323036 \n",
      "\n",
      "Number of product nodes:  60371 \n",
      "\n",
      "Number of edges:  26560620\n"
     ]
    },
    {
     "data": {
      "text/plain": [
       "view        25201706\n",
       "cart          809407\n",
       "purchase      549507\n",
       "Name: event_type, dtype: int64"
      ]
     },
     "execution_count": 11,
     "metadata": {},
     "output_type": "execute_result"
    }
   ],
   "source": [
    "CustomerNodes = ds['user_id'].nunique()\n",
    "ProductNodes = ds['product_id'].nunique() \n",
    "print('Number of customer nodes: ',CustomerNodes,'\\n')\n",
    "print('Number of product nodes: ', ProductNodes,'\\n')\n",
    "print('Number of edges: ',str(len(ds)))\n",
    "ds['event_type'].value_counts()"
   ]
  },
  {
   "cell_type": "markdown",
   "metadata": {},
   "source": [
    "# 2 Data cleaning"
   ]
  },
  {
   "cell_type": "markdown",
   "metadata": {},
   "source": [
    "## 2.1 Rows: Missing values and nonsense data"
   ]
  },
  {
   "cell_type": "code",
   "execution_count": 12,
   "metadata": {},
   "outputs": [
    {
     "data": {
      "text/plain": [
       "event_time       0\n",
       "event_type       0\n",
       "product_id       0\n",
       "category_id      0\n",
       "category_code    0\n",
       "brand            0\n",
       "price            0\n",
       "user_id          0\n",
       "user_session     0\n",
       "dtype: int64"
      ]
     },
     "execution_count": 12,
     "metadata": {},
     "output_type": "execute_result"
    }
   ],
   "source": [
    "ds.isnull().sum(axis = 0)"
   ]
  },
  {
   "cell_type": "code",
   "execution_count": 79,
   "metadata": {},
   "outputs": [],
   "source": [
    "ds = ds.dropna()"
   ]
  },
  {
   "cell_type": "code",
   "execution_count": 13,
   "metadata": {},
   "outputs": [
    {
     "data": {
      "text/plain": [
       "0"
      ]
     },
     "execution_count": 13,
     "metadata": {},
     "output_type": "execute_result"
    }
   ],
   "source": [
    "ds[ds['price'] == 0].shape[0]"
   ]
  },
  {
   "cell_type": "code",
   "execution_count": 81,
   "metadata": {},
   "outputs": [],
   "source": [
    "ds.drop(ds[ds['price'] == 0].index, inplace = True)"
   ]
  },
  {
   "cell_type": "markdown",
   "metadata": {},
   "source": [
    "## 2.2 Columns: Data types"
   ]
  },
  {
   "cell_type": "code",
   "execution_count": 76,
   "metadata": {},
   "outputs": [],
   "source": [
    "ds['event_time'] = pd.to_datetime(ds['event_time'],yearfirst=True,utc=True)"
   ]
  },
  {
   "cell_type": "code",
   "execution_count": 71,
   "metadata": {},
   "outputs": [],
   "source": [
    "ds['event_type'] = ds['event_type'].astype('category')"
   ]
  },
  {
   "cell_type": "code",
   "execution_count": 72,
   "metadata": {},
   "outputs": [],
   "source": [
    "ds['category_code'] = ds['category_code'].astype(object)\n",
    "ds['brand'] = ds['brand'].astype(object)"
   ]
  },
  {
   "cell_type": "code",
   "execution_count": 75,
   "metadata": {},
   "outputs": [],
   "source": [
    "for col in ds:\n",
    "\n",
    "   colDataType = ds[col].dtype\n",
    "\n",
    "   if str(colDataType)[:3] == 'int' or str(colDataType)[:5] == 'float':\n",
    "\n",
    "      maxValue = ds[col].min()\n",
    "      minValue = ds[col].max()\n",
    "\n",
    "      if str(colDataType)[:3] == 'int':\n",
    "         if minValue > np.iinfo(np.int8).min and maxValue < np.iinfo(np.int8).max:\n",
    "            ds[col] = ds[col].astype(np.int8)\n",
    "         elif minValue > np.iinfo(np.int16).min and maxValue < np.iinfo(np.int16).max:\n",
    "            ds[col] = ds[col].astype(np.int16)\n",
    "         elif minValue > np.iinfo(np.int32).min and maxValue < np.iinfo(np.int32).max:\n",
    "            ds[col] = ds[col].astype(np.int32)\n",
    "         elif minValue > np.iinfo(np.int64).min and maxValue < np.iinfo(np.int64).max:\n",
    "            ds[col] = ds[col].astype(np.int64)\n",
    "\n",
    "      if str(colDataType)[:5] == 'float':\n",
    "         if minValue > np.finfo(np.float16).min and maxValue < np.finfo(np.float16).max:\n",
    "            ds[col] = ds[col].astype(np.float16)\n",
    "         elif minValue > np.finfo(np.float32).min and maxValue < np.finfo(np.float32).max:\n",
    "            ds[col] = ds[col].astype(np.float32)\n",
    "         else:\n",
    "            ds[col] = ds[col].astype(np.float64)"
   ]
  },
  {
   "cell_type": "markdown",
   "metadata": {},
   "source": [
    "# 3 Users and Products grouping"
   ]
  },
  {
   "cell_type": "code",
   "execution_count": 14,
   "metadata": {},
   "outputs": [],
   "source": [
    "ds_view=ds[ds['event_type']=='view']\n",
    "ds_cart=ds[ds['event_type']=='cart']\n",
    "ds_purchase=ds[ds['event_type']=='purchase']"
   ]
  },
  {
   "cell_type": "markdown",
   "metadata": {},
   "source": [
    "## 3.1 Users"
   ]
  },
  {
   "cell_type": "markdown",
   "metadata": {},
   "source": [
    "#### Interactions"
   ]
  },
  {
   "cell_type": "code",
   "execution_count": 15,
   "metadata": {},
   "outputs": [
    {
     "name": "stdout",
     "output_type": "stream",
     "text": [
      "Number of customers by event:\n",
      "- All events: 2323036 customers   (Interactions/edges mean: 11.433580882948004)\n",
      "- View: 2322867 customers   (Interactions mean: 10.849396887553183)\n",
      "- Cart: 294902 customers   (Interactions mean: 2.7446643291669774)\n",
      "- Purchase: 263445 customers   (Interactions mean: 2.085850936628139)\n"
     ]
    }
   ],
   "source": [
    "user_interactions = ds.groupby(by=['user_id'],as_index=False).agg(user_interactions=('user_id','count'))\n",
    "user_view_interactions = ds_view.groupby(by=['user_id'],as_index=False).agg(user_view_interactions=('user_id','count'))\n",
    "user_cart_interactions = ds_cart.groupby(by=['user_id'],as_index=False).agg(user_cart_interactions=('user_id','count'))\n",
    "user_purchase_interactions = ds_purchase.groupby(by=['user_id'],as_index=False).agg(user_purchase_interactions=('user_id','count'))\n",
    "print('Number of customers by event:')\n",
    "print('- All events: ' + str(len(user_interactions))+ ' customers' + '   (Interactions/edges mean: ' + str(user_interactions['user_interactions'].mean()) + ')')\n",
    "print('- View: ' + str(len(user_view_interactions))+ ' customers' + '   (Interactions mean: ' + str(user_view_interactions['user_view_interactions'].mean()) + ')')\n",
    "print('- Cart: ' + str(len(user_cart_interactions))+ ' customers' + '   (Interactions mean: ' + str(user_cart_interactions['user_cart_interactions'].mean()) + ')')\n",
    "print('- Purchase: ' + str(len(user_purchase_interactions))+ ' customers' + '   (Interactions mean: ' + str(user_purchase_interactions['user_purchase_interactions'].mean()) + ')')\n"
   ]
  },
  {
   "cell_type": "code",
   "execution_count": 16,
   "metadata": {},
   "outputs": [
    {
     "data": {
      "text/plain": [
       "count    2.323036e+06\n",
       "mean     1.143358e+01\n",
       "std      2.544709e+01\n",
       "min      1.000000e+00\n",
       "25%      2.000000e+00\n",
       "50%      4.000000e+00\n",
       "75%      1.100000e+01\n",
       "max      6.043000e+03\n",
       "Name: user_interactions, dtype: float64"
      ]
     },
     "execution_count": 16,
     "metadata": {},
     "output_type": "execute_result"
    }
   ],
   "source": [
    "user_interactions['user_interactions'].describe()"
   ]
  },
  {
   "cell_type": "code",
   "execution_count": 17,
   "metadata": {},
   "outputs": [
    {
     "data": {
      "text/plain": [
       "count    2.322867e+06\n",
       "mean     1.084940e+01\n",
       "std      2.445638e+01\n",
       "min      1.000000e+00\n",
       "25%      2.000000e+00\n",
       "50%      4.000000e+00\n",
       "75%      1.100000e+01\n",
       "max      6.043000e+03\n",
       "Name: user_view_interactions, dtype: float64"
      ]
     },
     "execution_count": 17,
     "metadata": {},
     "output_type": "execute_result"
    }
   ],
   "source": [
    "user_view_interactions['user_view_interactions'].describe()"
   ]
  },
  {
   "cell_type": "code",
   "execution_count": 18,
   "metadata": {},
   "outputs": [
    {
     "data": {
      "text/plain": [
       "count    294902.000000\n",
       "mean          2.744664\n",
       "std           4.154872\n",
       "min           1.000000\n",
       "25%           1.000000\n",
       "50%           2.000000\n",
       "75%           3.000000\n",
       "max         494.000000\n",
       "Name: user_cart_interactions, dtype: float64"
      ]
     },
     "execution_count": 18,
     "metadata": {},
     "output_type": "execute_result"
    }
   ],
   "source": [
    "user_cart_interactions['user_cart_interactions'].describe()"
   ]
  },
  {
   "cell_type": "code",
   "execution_count": 19,
   "metadata": {},
   "outputs": [
    {
     "data": {
      "text/plain": [
       "count    263445.000000\n",
       "mean          2.085851\n",
       "std           3.618213\n",
       "min           1.000000\n",
       "25%           1.000000\n",
       "50%           1.000000\n",
       "75%           2.000000\n",
       "max         322.000000\n",
       "Name: user_purchase_interactions, dtype: float64"
      ]
     },
     "execution_count": 19,
     "metadata": {},
     "output_type": "execute_result"
    }
   ],
   "source": [
    "user_purchase_interactions['user_purchase_interactions'].describe()"
   ]
  },
  {
   "cell_type": "markdown",
   "metadata": {},
   "source": [
    "#### RFM"
   ]
  },
  {
   "cell_type": "code",
   "execution_count": 20,
   "metadata": {},
   "outputs": [],
   "source": [
    "user_purchase_rfm = ds_purchase.groupby(by=['user_id'],as_index=False).agg(recency=('event_time','max'),frequency=('user_id','count'),monetary=('price','sum'))\n",
    "\n",
    "last_event_time = ds_purchase['event_time'].max()\n",
    "user_purchase_rfm['recency'] = last_event_time - user_purchase_rfm['recency']\n",
    "user_purchase_rfm['recency'] = user_purchase_rfm['recency'] / np.timedelta64(1,'h')"
   ]
  },
  {
   "cell_type": "code",
   "execution_count": 21,
   "metadata": {},
   "outputs": [
    {
     "data": {
      "text/html": [
       "<div>\n",
       "<style scoped>\n",
       "    .dataframe tbody tr th:only-of-type {\n",
       "        vertical-align: middle;\n",
       "    }\n",
       "\n",
       "    .dataframe tbody tr th {\n",
       "        vertical-align: top;\n",
       "    }\n",
       "\n",
       "    .dataframe thead th {\n",
       "        text-align: right;\n",
       "    }\n",
       "</style>\n",
       "<table border=\"1\" class=\"dataframe\">\n",
       "  <thead>\n",
       "    <tr style=\"text-align: right;\">\n",
       "      <th></th>\n",
       "      <th>user_id</th>\n",
       "      <th>recency</th>\n",
       "      <th>frequency</th>\n",
       "      <th>monetary</th>\n",
       "    </tr>\n",
       "  </thead>\n",
       "  <tbody>\n",
       "    <tr>\n",
       "      <th>0.25</th>\n",
       "      <td>517519214.0</td>\n",
       "      <td>160.136667</td>\n",
       "      <td>1.0</td>\n",
       "      <td>145.375</td>\n",
       "    </tr>\n",
       "    <tr>\n",
       "      <th>0.50</th>\n",
       "      <td>536585624.0</td>\n",
       "      <td>328.573056</td>\n",
       "      <td>1.0</td>\n",
       "      <td>288.000</td>\n",
       "    </tr>\n",
       "    <tr>\n",
       "      <th>0.75</th>\n",
       "      <td>555555894.0</td>\n",
       "      <td>510.882500</td>\n",
       "      <td>2.0</td>\n",
       "      <td>738.500</td>\n",
       "    </tr>\n",
       "  </tbody>\n",
       "</table>\n",
       "</div>"
      ],
      "text/plain": [
       "          user_id     recency  frequency  monetary\n",
       "0.25  517519214.0  160.136667        1.0   145.375\n",
       "0.50  536585624.0  328.573056        1.0   288.000\n",
       "0.75  555555894.0  510.882500        2.0   738.500"
      ]
     },
     "execution_count": 21,
     "metadata": {},
     "output_type": "execute_result"
    }
   ],
   "source": [
    "user_purchase_rfm.quantile(q=[0.25,0.5,0.75])"
   ]
  },
  {
   "cell_type": "code",
   "execution_count": 22,
   "metadata": {},
   "outputs": [],
   "source": [
    "Quartile_segments = user_purchase_rfm.quantile(q=[0.25,0.5,0.75]).to_dict()\n",
    "\n",
    "def setScoringRecency (score):\n",
    "\n",
    "   if score <= Quartile_segments['recency'][0.25]:\n",
    "      return 4\n",
    "   elif score <= Quartile_segments['recency'][0.5]:\n",
    "      return 3\n",
    "   elif score <= Quartile_segments['recency'][0.75]:\n",
    "      return 2\n",
    "   else:\n",
    "      return 1\n",
    "\n",
    "def setScoringFrequency (score):\n",
    "\n",
    "   if score <= Quartile_segments['frequency'][0.25]:\n",
    "      return 1\n",
    "   elif score <= Quartile_segments['frequency'][0.5]:\n",
    "      return 2\n",
    "   elif score <= Quartile_segments['frequency'][0.75]:\n",
    "      return 3\n",
    "   else:\n",
    "      return 4\n",
    "\n",
    "def setScoringMonetary (score):\n",
    "\n",
    "   if score <= Quartile_segments['monetary'][0.25]:\n",
    "      return 1\n",
    "   elif score <= Quartile_segments['monetary'][0.5]:\n",
    "      return 2\n",
    "   elif score <= Quartile_segments['monetary'][0.75]:\n",
    "      return 3\n",
    "   else:\n",
    "      return 4\n",
    "\n",
    "user_purchase_rfm_scores = user_purchase_rfm\n",
    "user_purchase_rfm_scores['recency_q'] = user_purchase_rfm['recency'].apply(setScoringRecency)\n",
    "user_purchase_rfm_scores['frequency_q'] = user_purchase_rfm['frequency'].apply(setScoringFrequency)\n",
    "user_purchase_rfm_scores['monetary_q'] = user_purchase_rfm['monetary'].apply(setScoringRecency)"
   ]
  },
  {
   "cell_type": "code",
   "execution_count": 23,
   "metadata": {},
   "outputs": [],
   "source": [
    "user_purchase_rfm_scores['rfm_str_segmentation'] = user_purchase_rfm_scores['recency_q'].map(str) + user_purchase_rfm_scores['frequency_q'].map(str) + user_purchase_rfm_scores['monetary_q'].map(str)\n",
    "user_purchase_rfm_scores['rfm_int_scoring'] = user_purchase_rfm_scores['recency_q'].map(int) + user_purchase_rfm_scores['frequency_q'].map(int) + user_purchase_rfm_scores['monetary_q'].map(int)"
   ]
  },
  {
   "cell_type": "code",
   "execution_count": 24,
   "metadata": {},
   "outputs": [],
   "source": [
    "user_purchase_rfm_scores = user_purchase_rfm_scores[['user_id','rfm_str_segmentation','rfm_int_scoring']]"
   ]
  },
  {
   "cell_type": "code",
   "execution_count": 25,
   "metadata": {},
   "outputs": [
    {
     "data": {
      "text/html": [
       "<div>\n",
       "<style scoped>\n",
       "    .dataframe tbody tr th:only-of-type {\n",
       "        vertical-align: middle;\n",
       "    }\n",
       "\n",
       "    .dataframe tbody tr th {\n",
       "        vertical-align: top;\n",
       "    }\n",
       "\n",
       "    .dataframe thead th {\n",
       "        text-align: right;\n",
       "    }\n",
       "</style>\n",
       "<table border=\"1\" class=\"dataframe\">\n",
       "  <thead>\n",
       "    <tr style=\"text-align: right;\">\n",
       "      <th></th>\n",
       "      <th>user_id</th>\n",
       "      <th>rfm_str_segmentation</th>\n",
       "      <th>rfm_int_scoring</th>\n",
       "    </tr>\n",
       "  </thead>\n",
       "  <tbody>\n",
       "    <tr>\n",
       "      <th>0</th>\n",
       "      <td>303160429</td>\n",
       "      <td>212</td>\n",
       "      <td>5</td>\n",
       "    </tr>\n",
       "    <tr>\n",
       "      <th>1</th>\n",
       "      <td>340041246</td>\n",
       "      <td>212</td>\n",
       "      <td>5</td>\n",
       "    </tr>\n",
       "    <tr>\n",
       "      <th>2</th>\n",
       "      <td>384989212</td>\n",
       "      <td>314</td>\n",
       "      <td>8</td>\n",
       "    </tr>\n",
       "    <tr>\n",
       "      <th>3</th>\n",
       "      <td>401021311</td>\n",
       "      <td>313</td>\n",
       "      <td>7</td>\n",
       "    </tr>\n",
       "    <tr>\n",
       "      <th>4</th>\n",
       "      <td>403013066</td>\n",
       "      <td>331</td>\n",
       "      <td>7</td>\n",
       "    </tr>\n",
       "    <tr>\n",
       "      <th>...</th>\n",
       "      <td>...</td>\n",
       "      <td>...</td>\n",
       "      <td>...</td>\n",
       "    </tr>\n",
       "    <tr>\n",
       "      <th>263440</th>\n",
       "      <td>566265448</td>\n",
       "      <td>411</td>\n",
       "      <td>6</td>\n",
       "    </tr>\n",
       "    <tr>\n",
       "      <th>263441</th>\n",
       "      <td>566267483</td>\n",
       "      <td>434</td>\n",
       "      <td>11</td>\n",
       "    </tr>\n",
       "    <tr>\n",
       "      <th>263442</th>\n",
       "      <td>566270060</td>\n",
       "      <td>434</td>\n",
       "      <td>11</td>\n",
       "    </tr>\n",
       "    <tr>\n",
       "      <th>263443</th>\n",
       "      <td>566274637</td>\n",
       "      <td>411</td>\n",
       "      <td>6</td>\n",
       "    </tr>\n",
       "    <tr>\n",
       "      <th>263444</th>\n",
       "      <td>566278294</td>\n",
       "      <td>411</td>\n",
       "      <td>6</td>\n",
       "    </tr>\n",
       "  </tbody>\n",
       "</table>\n",
       "<p>263445 rows × 3 columns</p>\n",
       "</div>"
      ],
      "text/plain": [
       "          user_id rfm_str_segmentation  rfm_int_scoring\n",
       "0       303160429                  212                5\n",
       "1       340041246                  212                5\n",
       "2       384989212                  314                8\n",
       "3       401021311                  313                7\n",
       "4       403013066                  331                7\n",
       "...           ...                  ...              ...\n",
       "263440  566265448                  411                6\n",
       "263441  566267483                  434               11\n",
       "263442  566270060                  434               11\n",
       "263443  566274637                  411                6\n",
       "263444  566278294                  411                6\n",
       "\n",
       "[263445 rows x 3 columns]"
      ]
     },
     "execution_count": 25,
     "metadata": {},
     "output_type": "execute_result"
    }
   ],
   "source": [
    "user_purchase_rfm_scores"
   ]
  },
  {
   "cell_type": "markdown",
   "metadata": {},
   "source": [
    "## 3.2 Products"
   ]
  },
  {
   "cell_type": "markdown",
   "metadata": {},
   "source": [
    "### Interactions"
   ]
  },
  {
   "cell_type": "code",
   "execution_count": 26,
   "metadata": {},
   "outputs": [
    {
     "name": "stdout",
     "output_type": "stream",
     "text": [
      "Number of products by event:\n",
      "- All events: 60371 products   (Interactions mean: 439.9566016796144)\n",
      "- View: 60371 products  (Interactions mean: 417.4472180351493)\n",
      "- Cart: 6750 products  (Interactions mean: 119.91214814814815)\n",
      "- Purchase: 16737 products  (Interactions mean: 32.831869510664994)\n"
     ]
    }
   ],
   "source": [
    "product_interactions = ds.groupby(by=['product_id'],as_index=False).agg(product_interactions=('product_id','count'))\n",
    "product_view_interactions = ds_view.groupby(by=['product_id'],as_index=False).agg(product_view_interactions=('product_id','count'))\n",
    "product_cart_interactions = ds_cart.groupby(by=['product_id'],as_index=False).agg(product_cart_interactions=('product_id','count'))\n",
    "product_purchase_interactions = ds_purchase.groupby(by=['product_id'],as_index=False).agg(product_purchase_interactions=('product_id','count'))\n",
    "print('Number of products by event:')\n",
    "print('- All events: ' + str(len(product_interactions)) + ' products' + '   (Interactions mean: ' + str(product_interactions['product_interactions'].mean()) + ')')\n",
    "print('- View: ' + str(len(product_view_interactions)) + ' products' + '  (Interactions mean: ' + str(product_view_interactions['product_view_interactions'].mean()) + ')')\n",
    "print('- Cart: ' + str(len(product_cart_interactions)) + ' products' + '  (Interactions mean: ' + str(product_cart_interactions['product_cart_interactions'].mean()) + ')')\n",
    "print('- Purchase: ' + str(len(product_purchase_interactions)) + ' products' + '  (Interactions mean: ' + str(product_purchase_interactions['product_purchase_interactions'].mean()) + ')')"
   ]
  },
  {
   "cell_type": "code",
   "execution_count": 27,
   "metadata": {},
   "outputs": [
    {
     "data": {
      "text/plain": [
       "count     60371.000000\n",
       "mean        439.956602\n",
       "std        4896.841211\n",
       "min           1.000000\n",
       "25%           9.000000\n",
       "50%          34.000000\n",
       "75%         129.000000\n",
       "max      500354.000000\n",
       "Name: product_interactions, dtype: float64"
      ]
     },
     "execution_count": 27,
     "metadata": {},
     "output_type": "execute_result"
    }
   ],
   "source": [
    "product_interactions['product_interactions'].describe()"
   ]
  },
  {
   "cell_type": "code",
   "execution_count": 28,
   "metadata": {},
   "outputs": [
    {
     "data": {
      "text/plain": [
       "count     60371.000000\n",
       "mean        417.447218\n",
       "std        4353.750795\n",
       "min           1.000000\n",
       "25%           9.000000\n",
       "50%          34.000000\n",
       "75%         128.000000\n",
       "max      419287.000000\n",
       "Name: product_view_interactions, dtype: float64"
      ]
     },
     "execution_count": 28,
     "metadata": {},
     "output_type": "execute_result"
    }
   ],
   "source": [
    "product_view_interactions['product_view_interactions'].describe()"
   ]
  },
  {
   "cell_type": "code",
   "execution_count": 29,
   "metadata": {},
   "outputs": [
    {
     "data": {
      "text/plain": [
       "count     6750.000000\n",
       "mean       119.912148\n",
       "std       1096.419850\n",
       "min          1.000000\n",
       "25%          2.000000\n",
       "50%          6.000000\n",
       "75%         23.000000\n",
       "max      52123.000000\n",
       "Name: product_cart_interactions, dtype: float64"
      ]
     },
     "execution_count": 29,
     "metadata": {},
     "output_type": "execute_result"
    }
   ],
   "source": [
    "product_cart_interactions['product_cart_interactions'].describe()"
   ]
  },
  {
   "cell_type": "code",
   "execution_count": 30,
   "metadata": {},
   "outputs": [
    {
     "data": {
      "text/plain": [
       "count    16737.000000\n",
       "mean        32.831870\n",
       "std        403.472662\n",
       "min          1.000000\n",
       "25%          1.000000\n",
       "50%          2.000000\n",
       "75%          7.000000\n",
       "max      28944.000000\n",
       "Name: product_purchase_interactions, dtype: float64"
      ]
     },
     "execution_count": 30,
     "metadata": {},
     "output_type": "execute_result"
    }
   ],
   "source": [
    "product_purchase_interactions['product_purchase_interactions'].describe()"
   ]
  },
  {
   "cell_type": "markdown",
   "metadata": {},
   "source": [
    "# 4 Dataset sampling"
   ]
  },
  {
   "cell_type": "markdown",
   "metadata": {},
   "source": [
    "### 4.1 Sampling of User indexed dataframes"
   ]
  },
  {
   "cell_type": "markdown",
   "metadata": {},
   "source": [
    "#### Interactions"
   ]
  },
  {
   "cell_type": "code",
   "execution_count": 31,
   "metadata": {},
   "outputs": [
    {
     "name": "stdout",
     "output_type": "stream",
     "text": [
      "Number of customers sampled by event:\n",
      "- All events: 60 customers\n",
      "- View: 111 customers\n",
      "- Cart: 106 customers\n",
      "- Purchase: 97 customers\n"
     ]
    }
   ],
   "source": [
    "user_interactions_sample = user_interactions.loc[user_interactions['user_interactions'] > 921]\n",
    "user_view_interactions_sample = user_view_interactions.loc[user_view_interactions['user_view_interactions'] > 750]\n",
    "user_cart_interactions_sample = user_cart_interactions.loc[user_cart_interactions['user_cart_interactions'] > 65]\n",
    "user_purchase_interactions_sample = user_purchase_interactions.loc[user_purchase_interactions['user_purchase_interactions'] > 66]\n",
    "print('Number of customers sampled by event:')\n",
    "print('- All events: ' + str(len(user_interactions_sample)) + ' customers')\n",
    "print('- View: ' + str(len(user_view_interactions_sample)) + ' customers')\n",
    "print('- Cart: ' + str(len(user_cart_interactions_sample)) + ' customers')\n",
    "print('- Purchase: ' + str(len(user_purchase_interactions_sample)) + ' customers')\n"
   ]
  },
  {
   "cell_type": "markdown",
   "metadata": {},
   "source": [
    "### 4.2 Sampling of Product indexed dataframes"
   ]
  },
  {
   "cell_type": "markdown",
   "metadata": {},
   "source": [
    "#### Interactions"
   ]
  },
  {
   "cell_type": "code",
   "execution_count": 33,
   "metadata": {},
   "outputs": [
    {
     "name": "stdout",
     "output_type": "stream",
     "text": [
      "Number of products sampled by event:\n",
      "- All events: 50 products\n",
      "- View: 100 products\n",
      "- Cart: 103 products\n",
      "- Purchase: 103 products\n"
     ]
    }
   ],
   "source": [
    "product_interactions_sample = product_interactions.loc[product_interactions['product_interactions'] > 53600]\n",
    "product_view_interactions_sample = product_view_interactions.loc[product_view_interactions['product_view_interactions'] > 29200]\n",
    "product_cart_interactions_sample = product_cart_interactions.loc[product_cart_interactions['product_cart_interactions'] > 1290]\n",
    "product_purchase_interactions_sample = product_purchase_interactions.loc[product_purchase_interactions['product_purchase_interactions'] > 800]\n",
    "print('Number of products sampled by event:')\n",
    "print('- All events: ' + str(len(product_interactions_sample)) + ' products')\n",
    "print('- View: ' + str(len(product_view_interactions_sample)) + ' products')\n",
    "print('- Cart: ' + str(len(product_cart_interactions_sample)) + ' products')\n",
    "print('- Purchase: ' + str(len(product_purchase_interactions_sample)) + ' products')"
   ]
  },
  {
   "cell_type": "markdown",
   "metadata": {},
   "source": [
    "### 4.3 Dataset sampling"
   ]
  },
  {
   "cell_type": "markdown",
   "metadata": {},
   "source": [
    "#### -> All events"
   ]
  },
  {
   "cell_type": "markdown",
   "metadata": {},
   "source": [
    "##### Sample 1 - Small network\n",
    "\n",
    "* Customer number of interactions > 921\n",
    "* Product number of interactions > 53600"
   ]
  },
  {
   "cell_type": "code",
   "execution_count": 257,
   "metadata": {},
   "outputs": [],
   "source": [
    "ds_sample_1 = ds[ds.user_id.isin(user_interactions_sample.user_id)]\n",
    "ds_sample_1 = ds_sample_1[ds_sample_1.product_id.isin(product_interactions_sample.product_id)]"
   ]
  },
  {
   "cell_type": "code",
   "execution_count": 258,
   "metadata": {},
   "outputs": [
    {
     "name": "stdout",
     "output_type": "stream",
     "text": [
      "Graph data:\n",
      "- Number of customer nodes: 50\n",
      "- Number of product nodes: 50\n",
      "- Number of edges: 12046\n"
     ]
    }
   ],
   "source": [
    "customerNodes = str(ds_sample_1['user_id'].nunique())\n",
    "productNodes = str(ds_sample_1['product_id'].nunique())\n",
    "events = str(len(ds_sample_1))\n",
    "print('Graph data:')\n",
    "print('- Number of customer nodes: ' + customerNodes)\n",
    "print('- Number of product nodes: ' + productNodes)\n",
    "print('- Number of edges: ' + events)"
   ]
  },
  {
   "cell_type": "markdown",
   "metadata": {},
   "source": [
    "##### Sample 2 - Big network\n",
    "\n",
    "* Customer number of interactions > 768\n",
    "* Product number of interactions > 30700"
   ]
  },
  {
   "cell_type": "code",
   "execution_count": 247,
   "metadata": {},
   "outputs": [],
   "source": [
    "ds_sample_2 = ds[ds.user_id.isin(user_interactions_sample.user_id)]\n",
    "ds_sample_2 = ds_sample_2[ds_sample_2.product_id.isin(product_interactions_sample.product_id)]"
   ]
  },
  {
   "cell_type": "code",
   "execution_count": 248,
   "metadata": {},
   "outputs": [
    {
     "name": "stdout",
     "output_type": "stream",
     "text": [
      "Graph data:\n",
      "- Number of customer nodes: 100\n",
      "- Number of product nodes: 100\n",
      "- Number of edges: 25671\n"
     ]
    }
   ],
   "source": [
    "customerNodes = str(ds_sample_2['user_id'].nunique())\n",
    "productNodes = str(ds_sample_2['product_id'].nunique())\n",
    "events = str(len(ds_sample_2))\n",
    "print('Graph data:')\n",
    "print('- Number of customer nodes: ' + customerNodes)\n",
    "print('- Number of product nodes: ' + productNodes)\n",
    "print('- Number of edges: ' + events)"
   ]
  },
  {
   "cell_type": "markdown",
   "metadata": {},
   "source": [
    "#### -> 3.3.1 View"
   ]
  },
  {
   "cell_type": "markdown",
   "metadata": {},
   "source": [
    "##### Sample 1 - Small network\n",
    "\n",
    "* Customer number of interactions > 899\n",
    "* Product number of interactions > 50250"
   ]
  },
  {
   "cell_type": "code",
   "execution_count": 312,
   "metadata": {},
   "outputs": [],
   "source": [
    "ds_view_sample_1 = ds_view[ds_view.user_id.isin(user_view_interactions_sample.user_id)]\n",
    "ds_view_sample_1 = ds_view_sample_1[ds_view_sample_1.product_id.isin(product_view_interactions_sample.product_id)]"
   ]
  },
  {
   "cell_type": "code",
   "execution_count": 313,
   "metadata": {},
   "outputs": [
    {
     "name": "stdout",
     "output_type": "stream",
     "text": [
      "Graph data:\n",
      "- Number of customer nodes: 49\n",
      "- Number of product nodes: 50\n",
      "- Number of edges: 10221\n"
     ]
    }
   ],
   "source": [
    "customerNodes = str(ds_view_sample_1['user_id'].nunique())\n",
    "productNodes = str(ds_view_sample_1['product_id'].nunique())\n",
    "events = str(len(ds_view_sample_1))\n",
    "print('Graph data:')\n",
    "print('- Number of customer nodes: ' + customerNodes)\n",
    "print('- Number of product nodes: ' + productNodes)\n",
    "print('- Number of edges: ' + events)"
   ]
  },
  {
   "cell_type": "markdown",
   "metadata": {},
   "source": [
    "##### Sample 2 - Big network\n",
    "\n",
    "* Customer number of interactions > 700\n",
    "* Product number of interactions > 23500"
   ]
  },
  {
   "cell_type": "code",
   "execution_count": 371,
   "metadata": {},
   "outputs": [],
   "source": [
    "ds_view_sample_2 = ds_view[ds_view.user_id.isin(user_view_interactions_sample.user_id)]\n",
    "ds_view_sample_2 = ds_view_sample_2[ds_view_sample_2.product_id.isin(product_view_interactions_sample.product_id)]"
   ]
  },
  {
   "cell_type": "code",
   "execution_count": 372,
   "metadata": {},
   "outputs": [
    {
     "name": "stdout",
     "output_type": "stream",
     "text": [
      "Graph data:\n",
      "- Number of customer nodes: 99\n",
      "- Number of product nodes: 100\n",
      "- Number of edges: 21340\n"
     ]
    }
   ],
   "source": [
    "customerNodes = str(ds_view_sample_2['user_id'].nunique())\n",
    "productNodes = str(ds_view_sample_2['product_id'].nunique())\n",
    "events = str(len(ds_view_sample_2))\n",
    "print('Graph data:')\n",
    "print('- Number of customer nodes: ' + customerNodes)\n",
    "print('- Number of product nodes: ' + productNodes)\n",
    "print('- Number of edges: ' + events)"
   ]
  },
  {
   "cell_type": "markdown",
   "metadata": {},
   "source": [
    "#### -> 3.3.1 Cart"
   ]
  },
  {
   "cell_type": "markdown",
   "metadata": {},
   "source": [
    "##### Sample 1 - Small network\n",
    "\n",
    "* Customer number of interactions > 95\n",
    "* Product number of interactions > 3300"
   ]
  },
  {
   "cell_type": "code",
   "execution_count": 406,
   "metadata": {},
   "outputs": [],
   "source": [
    "ds_cart_sample_1 = ds_cart[ds_cart.user_id.isin(user_cart_interactions_sample.user_id)]\n",
    "ds_cart_sample_1 = ds_cart_sample_1[ds_cart_sample_1.product_id.isin(product_cart_interactions_sample.product_id)]"
   ]
  },
  {
   "cell_type": "code",
   "execution_count": 407,
   "metadata": {},
   "outputs": [
    {
     "name": "stdout",
     "output_type": "stream",
     "text": [
      "Graph data:\n",
      "- Number of customer nodes: 50\n",
      "- Number of product nodes: 50\n",
      "- Number of edges: 4584\n"
     ]
    }
   ],
   "source": [
    "customerNodes = str(ds_cart_sample_1['user_id'].nunique())\n",
    "productNodes = str(ds_cart_sample_1['product_id'].nunique())\n",
    "events = str(len(ds_cart_sample_1))\n",
    "print('Graph data:')\n",
    "print('- Number of customer nodes: ' + customerNodes)\n",
    "print('- Number of product nodes: ' + productNodes)\n",
    "print('- Number of edges: ' + events)"
   ]
  },
  {
   "cell_type": "markdown",
   "metadata": {},
   "source": [
    "##### Sample 2 - Big network\n",
    "\n",
    "* Customer number of interactions > 65\n",
    "* Product number of interactions > 1290"
   ]
  },
  {
   "cell_type": "code",
   "execution_count": 445,
   "metadata": {},
   "outputs": [],
   "source": [
    "ds_cart_sample_2 = ds_cart[ds_cart.user_id.isin(user_cart_interactions_sample.user_id)]\n",
    "ds_cart_sample_2 = ds_cart_sample_2[ds_cart_sample_2.product_id.isin(product_cart_interactions_sample.product_id)]"
   ]
  },
  {
   "cell_type": "code",
   "execution_count": 446,
   "metadata": {},
   "outputs": [
    {
     "name": "stdout",
     "output_type": "stream",
     "text": [
      "Graph data:\n",
      "- Number of customer nodes: 100\n",
      "- Number of product nodes: 100\n",
      "- Number of edges: 8490\n"
     ]
    }
   ],
   "source": [
    "customerNodes = str(ds_cart_sample_2['user_id'].nunique())\n",
    "productNodes = str(ds_cart_sample_2['product_id'].nunique())\n",
    "events = str(len(ds_cart_sample_2))\n",
    "print('Graph data:')\n",
    "print('- Number of customer nodes: ' + customerNodes)\n",
    "print('- Number of product nodes: ' + productNodes)\n",
    "print('- Number of edges: ' + events)"
   ]
  },
  {
   "cell_type": "markdown",
   "metadata": {},
   "source": [
    "#### -> 3.3.1 Purchase"
   ]
  },
  {
   "cell_type": "markdown",
   "metadata": {},
   "source": [
    "##### Sample 1 - Small network\n",
    "\n",
    "* Customer number of interactions > 110\n",
    "* Product number of interactions > 1400"
   ]
  },
  {
   "cell_type": "code",
   "execution_count": 485,
   "metadata": {},
   "outputs": [],
   "source": [
    "ds_purchase_sample_1 = ds_purchase[ds_purchase.user_id.isin(user_purchase_interactions_sample.user_id)]\n",
    "ds_purchase_sample_1 = ds_purchase_sample_1[ds_purchase_sample_1.product_id.isin(product_purchase_interactions_sample.product_id)]"
   ]
  },
  {
   "cell_type": "code",
   "execution_count": 486,
   "metadata": {},
   "outputs": [
    {
     "name": "stdout",
     "output_type": "stream",
     "text": [
      "Graph data:\n",
      "- Number of customer nodes: 49\n",
      "- Number of product nodes: 50\n",
      "- Number of edges: 3400\n"
     ]
    }
   ],
   "source": [
    "customerNodes = str(ds_purchase_sample_1['user_id'].nunique())\n",
    "productNodes = str(ds_purchase_sample_1['product_id'].nunique())\n",
    "events = str(len(ds_purchase_sample_1))\n",
    "print('Graph data:')\n",
    "print('- Number of customer nodes: ' + customerNodes)\n",
    "print('- Number of product nodes: ' + productNodes)\n",
    "print('- Number of edges: ' + events)"
   ]
  },
  {
   "cell_type": "markdown",
   "metadata": {},
   "source": [
    "##### Sample 2 - Big network\n",
    "\n",
    "* Customer number of interactions > 65\n",
    "* Product number of interactions > 800"
   ]
  },
  {
   "cell_type": "code",
   "execution_count": 512,
   "metadata": {},
   "outputs": [],
   "source": [
    "ds_purchase_sample_2 = ds_purchase[ds_purchase.user_id.isin(user_purchase_interactions_sample.user_id)]\n",
    "ds_purchase_sample_2 = ds_purchase_sample_2[ds_purchase_sample_2.product_id.isin(product_purchase_interactions_sample.product_id)]"
   ]
  },
  {
   "cell_type": "code",
   "execution_count": 513,
   "metadata": {},
   "outputs": [
    {
     "name": "stdout",
     "output_type": "stream",
     "text": [
      "Graph data:\n",
      "- Number of customer nodes: 95\n",
      "- Number of product nodes: 100\n",
      "- Number of edges: 6508\n"
     ]
    }
   ],
   "source": [
    "customerNodes = str(ds_purchase_sample_2['user_id'].nunique())\n",
    "productNodes = str(ds_purchase_sample_2['product_id'].nunique())\n",
    "events = str(len(ds_purchase_sample_2))\n",
    "print('Graph data:')\n",
    "print('- Number of customer nodes: ' + customerNodes)\n",
    "print('- Number of product nodes: ' + productNodes)\n",
    "print('- Number of edges: ' + events)"
   ]
  },
  {
   "cell_type": "markdown",
   "metadata": {},
   "source": [
    "# 5 Graph data modelling"
   ]
  },
  {
   "cell_type": "code",
   "execution_count": 514,
   "metadata": {},
   "outputs": [],
   "source": [
    "#ds_graph = ds_sample\n",
    "ds_graph = ds_purchase_sample_2\n",
    "\n",
    "graph = dict()\n",
    "nodes = []\n",
    "edges = []\n",
    "\n",
    "users = dict()\n",
    "users_index = 0\n",
    "products = dict()\n",
    "products_index = 0\n",
    "\n",
    "for row in range(0,len(ds_graph)):\n",
    "\n",
    "   # == Edge data == \n",
    "   event = ds_graph.iloc[row].event_type\n",
    "\n",
    "   # == User node data ==\n",
    "   user_id = ds_graph.iloc[row].user_id\n",
    "   user_session = ds_graph.iloc[row].user_session\n",
    "   #rfm\n",
    "   if(user_id in user_purchase_rfm_scores['user_id'].values):\n",
    "      rfm = user_purchase_rfm_scores.loc[user_purchase_rfm_scores['user_id'] == user_id].rfm_str_segmentation.item()\n",
    "   else:\n",
    "      rfm = 'Only view customer'\n",
    "   #Interactions\n",
    "   userInteractions = user_interactions.loc[user_interactions['user_id'] == user_id].user_interactions.item()\n",
    "   if(user_id in user_view_interactions['user_id'].values):\n",
    "      userViewInteractions = user_view_interactions.loc[user_view_interactions['user_id'] == user_id].user_view_interactions.item()\n",
    "   else:\n",
    "      userViewInteractions = 0\n",
    "   if(user_id in user_cart_interactions['user_id'].values):\n",
    "      userCartInteractions = user_cart_interactions.loc[user_cart_interactions['user_id'] == user_id].user_cart_interactions.item()\n",
    "   else:\n",
    "      userCartInteractions = 0\n",
    "   if(user_id in user_purchase_interactions['user_id'].values):\n",
    "      userPurchaseInteractions = user_purchase_interactions.loc[user_purchase_interactions['user_id'] == user_id].user_purchase_interactions.item()\n",
    "   else:\n",
    "      userPurchaseInteractions = 0\n",
    "\n",
    "   # == Product node data ==\n",
    "   product_id = ds_graph.iloc[row].product_id\n",
    "   category = ds_graph.iloc[row].category_code\n",
    "   brand = ds_graph.iloc[row].brand\n",
    "   price = ds_graph.iloc[row].price\n",
    "   #Interactions\n",
    "   productInteractions = product_interactions.loc[product_interactions['product_id'] == product_id].product_interactions.item()\n",
    "   if(product_id in product_view_interactions['product_id'].values):\n",
    "      productViewInteractions = product_view_interactions.loc[product_view_interactions['product_id'] == product_id].product_view_interactions.item()\n",
    "   else:\n",
    "      productViewInteractions = 0\n",
    "   if(product_id in product_cart_interactions['product_id'].values):\n",
    "      productCartInteractions = product_cart_interactions.loc[product_cart_interactions['product_id'] == product_id].product_cart_interactions.item()\n",
    "   else:\n",
    "      productCartInteractions= 0\n",
    "   if(product_id in product_purchase_interactions['product_id'].values):\n",
    "      productPurchaseInteractions = product_purchase_interactions.loc[product_purchase_interactions['product_id'] == product_id].product_purchase_interactions.item()\n",
    "   else:\n",
    "      productPurchaseInteractions = 0\n",
    "\n",
    "   # == Node common property ==\n",
    "   date = ds_graph.iloc[row].event_time\n",
    "   date = date.to_pydatetime().strftime('%d-%m-%Y')\n",
    "\n",
    "   # == Nodes array ==\n",
    "   if(user_id not in users):\n",
    "      users[user_id] = users_index\n",
    "      users_index += users_index\n",
    "      nodes.append({'id': str(user_id), 'date': date, 'class': 'customer', 'sess': user_session, 'rfm': rfm,'int': str(userInteractions), 'int_v': str(userViewInteractions), 'int_c': str(userCartInteractions), 'int_p': str(userPurchaseInteractions)})\n",
    "\n",
    "   if(product_id not in products):\n",
    "      products[product_id] = products_index\n",
    "      products_index += products_index\n",
    "      nodes.append({'id': str(product_id), 'date': date, 'class': 'product', 'cat': str(category), 'bra': str(brand), 'pri': str(price),'int': str(productInteractions), 'int_v': str(productViewInteractions), 'int_c': str(productCartInteractions), 'int_p': str(productPurchaseInteractions)})\n",
    "   \n",
    "   # == Edges array ==\n",
    "   edges.append({'source':str(user_id), 'target':str(product_id), 'event': str(event)})\n",
    "\n",
    "# == Graph array ==\n",
    "graph = {'nodes': nodes, 'edges': edges}"
   ]
  },
  {
   "cell_type": "code",
   "execution_count": 488,
   "metadata": {},
   "outputs": [
    {
     "name": "stdout",
     "output_type": "stream",
     "text": [
      "Nodes: 99\n",
      "Edges: 3400\n"
     ]
    }
   ],
   "source": [
    "print('Nodes: ' + str(len(nodes)) + '\\nEdges: ' + str(len(edges)))"
   ]
  },
  {
   "cell_type": "code",
   "execution_count": 515,
   "metadata": {},
   "outputs": [],
   "source": [
    "with open('/Users/juanmanuel/Code/src/jjmpalma.github.io/data_json/purchase_events_big_network.json', 'w') as outfile:\n",
    "   json.dump(graph, outfile)"
   ]
  }
 ],
 "metadata": {
  "interpreter": {
   "hash": "4631804d482cd8ea9dd4804cdabfe8d2dfd4c5b077fba09be91467105946e68c"
  },
  "kernelspec": {
   "display_name": "Python 3.9.7 ('base')",
   "language": "python",
   "name": "python3"
  },
  "language_info": {
   "codemirror_mode": {
    "name": "ipython",
    "version": 3
   },
   "file_extension": ".py",
   "mimetype": "text/x-python",
   "name": "python",
   "nbconvert_exporter": "python",
   "pygments_lexer": "ipython3",
   "version": "3.9.7"
  },
  "orig_nbformat": 4
 },
 "nbformat": 4,
 "nbformat_minor": 2
}
